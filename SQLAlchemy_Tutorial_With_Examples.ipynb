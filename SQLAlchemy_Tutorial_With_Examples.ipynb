{
  "nbformat": 4,
  "nbformat_minor": 0,
  "metadata": {
    "colab": {
      "provenance": [],
      "authorship_tag": "ABX9TyOeNZXY34V1uPAf6cBASaCO",
      "include_colab_link": true
    },
    "kernelspec": {
      "name": "python3",
      "display_name": "Python 3"
    },
    "language_info": {
      "name": "python"
    }
  },
  "cells": [
    {
      "cell_type": "markdown",
      "metadata": {
        "id": "view-in-github",
        "colab_type": "text"
      },
      "source": [
        "<a href=\"https://colab.research.google.com/github/Santiago-Quinteros/SQLAlchemy-Tutorial-With-Examples/blob/main/SQLAlchemy_Tutorial_With_Examples.ipynb\" target=\"_parent\"><img src=\"https://colab.research.google.com/assets/colab-badge.svg\" alt=\"Open In Colab\"/></a>"
      ]
    },
    {
      "cell_type": "markdown",
      "source": [
        "# SQLAlchemy Tutorial With Examples\n",
        "\n",
        "A tutorial to remember SQL and SQLAlchemy\n",
        "\n",
        "ChatGPT\n",
        "\n",
        "https://www.datacamp.com/tutorial/sqlalchemy-tutorial-examples\n",
        "\n",
        "https://sqlzoo.net/wiki/SQL_Tutorial\n",
        "\n",
        "\n",
        "\n",
        "## What is SQLAlchemy?\n",
        "SQLAlchemy is a Python library that helps you work with databases. It provides:\n",
        "\n",
        "A Core layer for building raw SQL queries in Python.\n",
        "\n",
        "An ORM (Object Relational Mapping) layer that lets you interact with database tables as if they were Python objects.\n",
        "\n",
        "## Key Concepts\n",
        "Database: A collection of data organized into tables.\n",
        "\n",
        "Table: Similar to a spreadsheet, it contains rows and columns.\n",
        "\n",
        "Row: A single record.\n",
        "\n",
        "Column: A property of the record (e.g., name, age).\n",
        "\n",
        "Engine: Connects to the database.\n",
        "\n",
        "Session: Manages communication with the database.\n",
        "\n",
        "## Key Points About Queries:\n",
        "\n",
        "Queries are instructions to interact with the database.\n",
        "\n",
        "In SQLAlchemy, they are abstracted into Python objects and executed through a connection/session.\n",
        "\n",
        "Common query types include SELECT (retrieve), INSERT (add), UPDATE (modify), and DELETE (remove)."
      ],
      "metadata": {
        "id": "IFEcKTiyV4sJ"
      }
    },
    {
      "cell_type": "code",
      "execution_count": 36,
      "metadata": {
        "colab": {
          "base_uri": "https://localhost:8080/"
        },
        "id": "i9frXamGV07l",
        "outputId": "0f0e1b51-a070-4587-b82d-5508503f089b"
      },
      "outputs": [
        {
          "output_type": "stream",
          "name": "stdout",
          "text": [
            "Requirement already satisfied: sqlalchemy in /usr/local/lib/python3.10/dist-packages (2.0.36)\n",
            "Requirement already satisfied: typing-extensions>=4.6.0 in /usr/local/lib/python3.10/dist-packages (from sqlalchemy) (4.12.2)\n",
            "Requirement already satisfied: greenlet!=0.4.17 in /usr/local/lib/python3.10/dist-packages (from sqlalchemy) (3.1.1)\n"
          ]
        }
      ],
      "source": [
        "pip install sqlalchemy"
      ]
    },
    {
      "cell_type": "code",
      "source": [
        "import sqlalchemy\n",
        "sqlalchemy.__version__"
      ],
      "metadata": {
        "colab": {
          "base_uri": "https://localhost:8080/",
          "height": 35
        },
        "id": "sNXmnE9CV8Iw",
        "outputId": "559cdcf5-c1f0-4914-e61b-254bb02f7898"
      },
      "execution_count": 37,
      "outputs": [
        {
          "output_type": "execute_result",
          "data": {
            "text/plain": [
              "'2.0.36'"
            ],
            "application/vnd.google.colaboratory.intrinsic+json": {
              "type": "string"
            }
          },
          "metadata": {},
          "execution_count": 37
        }
      ]
    },
    {
      "cell_type": "code",
      "source": [
        "import sqlalchemy as db\n",
        "#Download and place in working folder\n",
        "#https://www.kaggle.com/datasets/groleo/european-football-database?resource=download\n",
        "engine = db.create_engine(\"sqlite:///european_database.sqlite\")\n",
        "conn = engine.connect()"
      ],
      "metadata": {
        "id": "Z3dWTqXXxKGv"
      },
      "execution_count": 38,
      "outputs": []
    },
    {
      "cell_type": "markdown",
      "source": [
        "What is an Engine?\n",
        "\n",
        "The engine in SQLAlchemy is the core component responsible for connecting your Python application to a database. It's like the \"bridge\" between Python and the actual database.\n",
        "\n",
        "Key Responsibilities of the Engine\n",
        "\n",
        "* Establish Connection: The engine knows how to talk to your database (e.g., SQLite, PostgreSQL, MySQL).\n",
        "\n",
        "* Execute Queries: It runs queries against the database.\n",
        "\n",
        "* Manage Resources: It handles database connections efficiently.\n"
      ],
      "metadata": {
        "id": "R5JiHTiFps7r"
      }
    },
    {
      "cell_type": "code",
      "source": [
        "# Use the inspector to get the list of tables\n",
        "inspector = db.inspect(engine)\n",
        "\n",
        "# Get the names of all tables in the database\n",
        "table_names = inspector.get_table_names()\n",
        "\n",
        "# Print the table names\n",
        "print(table_names)"
      ],
      "metadata": {
        "colab": {
          "base_uri": "https://localhost:8080/"
        },
        "id": "owkHz-LWEJTH",
        "outputId": "ff372bd0-bfd9-4095-aa92-29fcf04596fb"
      },
      "execution_count": 43,
      "outputs": [
        {
          "output_type": "stream",
          "name": "stdout",
          "text": [
            "['divisions', 'matchs']\n"
          ]
        }
      ]
    },
    {
      "cell_type": "code",
      "source": [
        "metadata = db.MetaData() #extracting the metadata (what is the data, type for example)\n",
        "#metadata is an object that contains all the metadata from the tables\n",
        "division= db.Table('divisions', metadata, autoload_with=engine) #Table object"
      ],
      "metadata": {
        "id": "fLfdoXF7A_QV"
      },
      "execution_count": 47,
      "outputs": []
    },
    {
      "cell_type": "code",
      "source": [
        "print(repr(metadata.tables['divisions']))"
      ],
      "metadata": {
        "id": "I8HFdWdPBMr1",
        "outputId": "e5bddd99-7e0c-46eb-c3f3-6107055ca52c",
        "colab": {
          "base_uri": "https://localhost:8080/"
        }
      },
      "execution_count": 44,
      "outputs": [
        {
          "output_type": "stream",
          "name": "stdout",
          "text": [
            "Table('divisions', MetaData(), Column('division', TEXT(), table=<divisions>), Column('name', TEXT(), table=<divisions>), Column('country', TEXT(), table=<divisions>), schema=None)\n"
          ]
        }
      ]
    },
    {
      "cell_type": "code",
      "source": [
        "print(division.columns.keys())"
      ],
      "metadata": {
        "colab": {
          "base_uri": "https://localhost:8080/"
        },
        "id": "il-Zdp15FfyZ",
        "outputId": "e61ae79d-fb6b-482e-bd5a-f76a4c0bb9a0"
      },
      "execution_count": 45,
      "outputs": [
        {
          "output_type": "stream",
          "name": "stdout",
          "text": [
            "['division', 'name', 'country']\n"
          ]
        }
      ]
    },
    {
      "cell_type": "code",
      "source": [
        "query=division.select() #Make a select query\n",
        "print(query)"
      ],
      "metadata": {
        "id": "P3RvvKLc_1fo",
        "colab": {
          "base_uri": "https://localhost:8080/"
        },
        "outputId": "6e2b962c-29dc-479c-cebf-264c8b2f5fb7"
      },
      "execution_count": 48,
      "outputs": [
        {
          "output_type": "stream",
          "name": "stdout",
          "text": [
            "SELECT divisions.division, divisions.name, divisions.country \n",
            "FROM divisions\n"
          ]
        }
      ]
    },
    {
      "cell_type": "code",
      "source": [
        "# the queries are executed from the connection\n",
        "\n",
        "exe = conn.execute(query) #executing the query\n",
        "result = exe.fetchmany(5) #extracting top 5 results\n",
        "print(result)"
      ],
      "metadata": {
        "colab": {
          "base_uri": "https://localhost:8080/"
        },
        "id": "rnwgecSfF_x2",
        "outputId": "adff1cd2-9942-45e9-f13c-c482f943fa51"
      },
      "execution_count": 49,
      "outputs": [
        {
          "output_type": "stream",
          "name": "stdout",
          "text": [
            "[('B1', 'Division 1A', 'Belgium'), ('D1', 'Bundesliga', 'Deutschland'), ('D2', '2. Bundesliga', 'Deutschland'), ('E0', 'Premier League', 'England'), ('E1', 'EFL Championship', 'England')]\n"
          ]
        }
      ]
    },
    {
      "cell_type": "markdown",
      "source": [
        "# Creating Tables\n",
        "\n",
        "First, we will create a new database called datacamp.sqlite. The create_engine will create a new database automatically if there is no database with the same name. So, creating and connecting are pretty much similar.\n",
        "\n",
        "After that, we will connect the database and create a metadata object.\n",
        "\n",
        "We will use SQLAlchmys Table function to create a table called “Student”\n",
        "\n",
        "It consists of columns:\n",
        "\n",
        "Id: Integer and primary key\n",
        "\n",
        "Name: String and non-nullable\n",
        "\n",
        "Major: String and default = “Math”\n",
        "\n",
        "Pass: Boolean and default =True\n",
        "\n",
        "We have created the structure of the table. Lets add it to the database using `metadata.create_all(engine)`."
      ],
      "metadata": {
        "id": "All54g_7IqMa"
      }
    },
    {
      "cell_type": "code",
      "source": [],
      "metadata": {
        "id": "Lr5--naWIrtZ"
      },
      "execution_count": null,
      "outputs": []
    }
  ]
}